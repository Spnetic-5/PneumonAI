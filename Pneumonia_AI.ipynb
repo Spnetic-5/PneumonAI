{
  "nbformat": 4,
  "nbformat_minor": 0,
  "metadata": {
    "kernelspec": {
      "display_name": "Python 3",
      "language": "python",
      "name": "python3"
    },
    "language_info": {
      "codemirror_mode": {
        "name": "ipython",
        "version": 3
      },
      "file_extension": ".py",
      "mimetype": "text/x-python",
      "name": "python",
      "nbconvert_exporter": "python",
      "pygments_lexer": "ipython3",
      "version": "3.6.5"
    },
    "colab": {
      "name": "Pneumonia-AI.ipynb",
      "provenance": [],
      "include_colab_link": true
    }
  },
  "cells": [
    {
      "cell_type": "markdown",
      "metadata": {
        "id": "view-in-github",
        "colab_type": "text"
      },
      "source": [
        "<a href=\"https://colab.research.google.com/github/Spnetic-5/PneumonAI/blob/master/Pneumonia_AI.ipynb\" target=\"_parent\"><img src=\"https://colab.research.google.com/assets/colab-badge.svg\" alt=\"Open In Colab\"/></a>"
      ]
    },
    {
      "cell_type": "markdown",
      "metadata": {
        "id": "V_aL4a5NzjJd"
      },
      "source": [
        "<h2>A.I. based X-Ray analysis for human lungs. Implemented by Keras and Tensorflow</h2>\n",
        "<p>Prepared by Saurabh Suresh Powar, saurabhpowar1823@gmail.com</p>\n",
        "<h3>Part 1: Construct the CNN Architecture and train the model with real data</h3>\n"
      ]
    },
    {
      "cell_type": "code",
      "metadata": {
        "id": "CIc5hYZzzjJj"
      },
      "source": [
        "# Import modules and packages\n",
        "import numpy as np\n",
        "import pandas as pd\n",
        "import itertools\n",
        "import os, stat, time\n",
        "from os.path import dirname as up\n",
        "\n",
        "import tensorflow as tf\n",
        "import keras\n",
        "from keras import backend as K\n",
        "from keras.models import Sequential\n",
        "from keras.layers import Activation\n",
        "from keras.layers.core import Dense, Flatten, Dropout\n",
        "from keras.optimizers import Adam\n",
        "from keras.optimizers import RMSprop\n",
        "from keras.metrics import categorical_crossentropy\n",
        "from keras.regularizers import l2\n",
        "from keras.preprocessing.image import ImageDataGenerator\n",
        "from keras.layers.convolutional import *\n",
        "from keras.layers.normalization import BatchNormalization\n",
        "from keras.optimizers import SGD\n",
        "\n",
        "from matplotlib import pyplot as plt\n",
        "\n",
        "from sklearn.metrics import confusion_matrix\n",
        "\n",
        "from vb100_utils import *\n",
        "from shutil import copyfile\n",
        "import shutil\n",
        "import glob\n",
        "from PIL import Image\n",
        "\n",
        "import warnings\n",
        "warnings.filterwarnings('ignore')\n",
        "%matplotlib inline"
      ],
      "execution_count": null,
      "outputs": []
    },
    {
      "cell_type": "code",
      "metadata": {
        "id": "z1EqaXYKzjJl",
        "outputId": "b4c8a8a2-e93b-422d-ed24-68281adb85c0"
      },
      "source": [
        "!pip install sklearn\n",
        "!pip install -U matplotlib\n",
        "!pip install Pillow"
      ],
      "execution_count": null,
      "outputs": [
        {
          "output_type": "stream",
          "text": [
            "Requirement already satisfied: sklearn in c:\\program files\\python36\\lib\\site-packages (0.0)\n",
            "Requirement already satisfied: scikit-learn in c:\\program files\\python36\\lib\\site-packages (from sklearn) (0.19.2)\n",
            "Collecting matplotlib\n",
            "  Using cached https://files.pythonhosted.org/packages/cc/eb/fd7a5f3c1484e8d2590ff94ca0b89941940a916394f719ab3bb7279e1970/matplotlib-3.1.1-cp36-cp36m-win_amd64.whl\n",
            "Requirement already satisfied, skipping upgrade: numpy>=1.11 in c:\\program files\\python36\\lib\\site-packages (from matplotlib) (1.16.1)\n",
            "Requirement already satisfied, skipping upgrade: cycler>=0.10 in c:\\program files\\python36\\lib\\site-packages (from matplotlib) (0.10.0)\n",
            "Requirement already satisfied, skipping upgrade: pyparsing!=2.0.4,!=2.1.2,!=2.1.6,>=2.0.1 in c:\\program files\\python36\\lib\\site-packages (from matplotlib) (2.2.0)\n",
            "Requirement already satisfied, skipping upgrade: kiwisolver>=1.0.1 in c:\\program files\\python36\\lib\\site-packages (from matplotlib) (1.0.1)\n",
            "Requirement already satisfied, skipping upgrade: python-dateutil>=2.1 in c:\\program files\\python36\\lib\\site-packages (from matplotlib) (2.7.3)\n",
            "Requirement already satisfied, skipping upgrade: six in c:\\program files\\python36\\lib\\site-packages (from cycler>=0.10->matplotlib) (1.11.0)\n",
            "Requirement already satisfied, skipping upgrade: setuptools in c:\\program files\\python36\\lib\\site-packages (from kiwisolver>=1.0.1->matplotlib) (41.0.1)\n",
            "Installing collected packages: matplotlib\n",
            "  Found existing installation: matplotlib 2.2.3\n",
            "    Uninstalling matplotlib-2.2.3:\n"
          ],
          "name": "stdout"
        },
        {
          "output_type": "stream",
          "text": [
            "ERROR: Could not install packages due to an EnvironmentError: [WinError 5] Access is denied: 'c:\\\\program files\\\\python36\\\\lib\\\\site-packages\\\\__pycache__\\\\pylab.cpython-36.pyc'\n",
            "Consider using the `--user` option or check the permissions.\n",
            "\n"
          ],
          "name": "stderr"
        },
        {
          "output_type": "stream",
          "text": [
            "Requirement already satisfied: Pillow in c:\\program files\\python36\\lib\\site-packages (6.0.0)\n"
          ],
          "name": "stdout"
        }
      ]
    },
    {
      "cell_type": "code",
      "metadata": {
        "id": "YlrruKy7zjJl",
        "outputId": "8879c9f1-3f06-4319-8553-bebd06f5fbdc"
      },
      "source": [
        "print('Tensorflow version = {}'.format(tf.__version__))\n",
        "print('Keras version = {}'.format(keras.__version__))"
      ],
      "execution_count": null,
      "outputs": [
        {
          "output_type": "stream",
          "text": [
            "Tensorflow version = 2.0.0-alpha0\n",
            "Keras version = 2.2.4\n"
          ],
          "name": "stdout"
        }
      ]
    },
    {
      "cell_type": "markdown",
      "metadata": {
        "id": "tIs_V7NyzjJm"
      },
      "source": [
        "<b># Data Pre-processing automatically</b>"
      ]
    },
    {
      "cell_type": "code",
      "metadata": {
        "id": "Hsbck7I9zjJm"
      },
      "source": [
        "# Data Folder System: -------------------------------------------------\n",
        "# data\n",
        "# -- test (234 + 390 = 624)\n",
        "# ---- NORMAL\n",
        "# ------ IM-0001-0001.jpeg\n",
        "# ------ IM-0003-0001.jpeg\n",
        "# ------ (234 images)\n",
        "# ---- PNEUMONIA\n",
        "# ------ person1_virus_6.jpeg\n",
        "# ------ person109_bacteria_526.jpeg\n",
        "# ------ (390 images)\n",
        "# -- train (1341 + 3875 = 5216)\n",
        "# ---- NORMAL\n",
        "# ------ IM-0115-0001.jpeg\n",
        "# ------ IM-0117-0001.jpeg\n",
        "# ------ (1341 images)\n",
        "# ---- PNEUMONIA\n",
        "# ------ person1_bacteria_1.jpeg\n",
        "# ------ person162_virus_322.jpeg\n",
        "# ------ (3875 images)\n",
        "# -- val (8 + 8 = 16)\n",
        "# ---- NORMAL\n",
        "# ------ NORMAL2-IM-1427-0001.jpeg\n",
        "# ------ NORMAL2-IM-1440-0001.jpeg\n",
        "# ------ (8 images)\n",
        "# ---- PNEUMONIA\n",
        "# ------ person1946_bacteria_4874.jpeg\n",
        "# ------ person1951_bacteria_4882.jpeg\n",
        "# ------ (8 images)\n",
        "\n",
        "# In total: 234 + 390 + 3875 + 8 + 8 = 4515 imges (1.2GB of data)\n",
        "# -----------------------------------------------------------------------"
      ],
      "execution_count": null,
      "outputs": []
    },
    {
      "cell_type": "code",
      "metadata": {
        "id": "NhGhtxuFzjJn",
        "outputId": "057de1f7-6571-4c92-9196-36060af45491"
      },
      "source": [
        "# CONSTANTS FOR DIRECTORIES\n",
        "TRAIN_DIR = 'data/train'\n",
        "VALID_DIR = 'data/val'\n",
        "TEST_DIR = 'data/test'\n",
        "l_DIRS = [TRAIN_DIR, VALID_DIR, TEST_DIR]\n",
        "POSITIVE_CLASS = 'NORMAL'\n",
        "ABSTRACT_CLASS = 'PNEUMONIA'\n",
        "\n",
        "# CONSTANTS FOR IMAGE PARAMETERS\n",
        "INPUT_W = 1200 # pixels\n",
        "INPUT_H = 900  # pixels\n",
        "DIVIDER = 3.6\n",
        "INPUT_DIM = (int(INPUT_W/DIVIDER), int(INPUT_H/DIVIDER), 1)\n",
        "BATCH_SIZE_TRAIN = 64\n",
        "BATCH_SIZE_TEST = 64 \n",
        "BATCH_SIZE_VALID = 16\n",
        "NORMALIZER = 1./255\n",
        "IMAGE_FORMAT = 'jpeg'\n",
        "\n",
        "# Output Info\n",
        "print('Image dimmensions for CNN = {}'.format(INPUT_DIM))"
      ],
      "execution_count": null,
      "outputs": [
        {
          "output_type": "stream",
          "text": [
            "Image dimmensions for CNN = (333, 250, 1)\n"
          ],
          "name": "stdout"
        }
      ]
    },
    {
      "cell_type": "code",
      "metadata": {
        "id": "6ta9PKJQzjJn",
        "outputId": "1f30b44e-6d70-47dc-9693-a0363067fab7"
      },
      "source": [
        "if abstract_class_exists(ABSTRACT_CLASS, l_DIRS):\n",
        "    structure_origin_data(l_DIRS, IMAGE_FORMAT, POSITIVE_CLASS)\n",
        "\n",
        "classes = classes_for_each_set(l_DIRS)\n",
        "\n",
        "print('Catched classes for the model:\\n{}'.format(classes))"
      ],
      "execution_count": null,
      "outputs": [
        {
          "output_type": "stream",
          "text": [
            "Data are valid and ready to be feeded to the model already.\n",
            "\n",
            "Catched classes for the model:\n",
            "{'TRAIN': ['BACTERIA', 'NORMAL', 'VIRUS'], 'VALIDATION': ['BACTERIA', 'NORMAL'], 'TEST': ['BACTERIA', 'NORMAL', 'VIRUS']}\n"
          ],
          "name": "stdout"
        }
      ]
    },
    {
      "cell_type": "code",
      "metadata": {
        "scrolled": false,
        "id": "UtmljsZtzjJo",
        "outputId": "93349192-91bf-47cb-ed52-e6ad61142f70"
      },
      "source": [
        "# Generating and Plot Image Data from Train Set\n",
        "TRAIN_BATCHES = ImageDataGenerator(rescale=NORMALIZER).\\\n",
        "    flow_from_directory(TRAIN_DIR,\n",
        "    color_mode='grayscale',\n",
        "    target_size=INPUT_DIM[0:2],\n",
        "    classes=classes['TRAIN'],\n",
        "    class_mode=\"categorical\",\n",
        "    shuffle=True,\n",
        "    batch_size=BATCH_SIZE_TRAIN)\n",
        "\n",
        "imgs, labels = next(TRAIN_BATCHES)  # <-- Extracting image matrixes and labels\n",
        "plots(imgs, titles=labels)          # <-- Plot Images with labels\n",
        "#train_imgs = rgb_to_grayscale(imgs) # <-- Convert RGB images to Grayscale ones by Tensorflow\n",
        "#train_labels = labels\n",
        "\n",
        "# Generating and Plot Image Data from Test Set\n",
        "TEST_BATCHES = ImageDataGenerator(rescale=NORMALIZER).\\\n",
        "    flow_from_directory(TEST_DIR,\n",
        "    color_mode='grayscale',\n",
        "    target_size=INPUT_DIM[0:2],\n",
        "    classes=classes['TEST'],\n",
        "    class_mode=\"categorical\",\n",
        "    shuffle=True,\n",
        "    batch_size=BATCH_SIZE_TEST)\n",
        "\n",
        "imgs, labels = next(TEST_BATCHES)   # <-- Extracting image matrixes and labels\n",
        "plots(imgs, titles=labels)          # <-- Plot Images with labels\n",
        "#test_imgs = rgb_to_grayscale(imgs)  # <-- Convert RGB images to Grayscale ones by Tensorflow\n",
        "#test_labels = labels\n",
        "\n",
        "# Generating and Plot Image Data from Validation Set\n",
        "VAL_BATCHES = ImageDataGenerator(rescale=NORMALIZER).\\\n",
        "    flow_from_directory(VALID_DIR,\n",
        "    color_mode='grayscale',\n",
        "    target_size=INPUT_DIM[0:2],\n",
        "    classes=classes['VALIDATION'],\n",
        "    class_mode=\"categorical\",\n",
        "    shuffle=True,\n",
        "    batch_size=BATCH_SIZE_VALID)\n",
        "\n",
        "imgs, labels = next(VAL_BATCHES)   # <-- Extracting image matrixes and labels\n",
        "plots(imgs, titles=labels)         # <-- Plot Images with labels\n",
        "#val_imgs = rgb_to_grayscale(imgs)  # < -- Convert RGB images to Grayscale ones by Tensorflow\n",
        "#val_labels = labels"
      ],
      "execution_count": null,
      "outputs": [
        {
          "output_type": "stream",
          "text": [
            "Found 5215 images belonging to 3 classes.\n",
            "Found 624 images belonging to 3 classes.\n",
            "Found 16 images belonging to 2 classes.\n"
          ],
          "name": "stdout"
        },
        {
          "output_type": "display_data",
          "data": {
            "image/png": "[encoded data removed]",
            "text/plain": [
              "<Figure size 1008x540 with 64 Axes>"
            ]
          },
          "metadata": {
            "tags": [],
            "needs_background": "light"
          }
        },
        {
          "output_type": "display_data",
          "data": {
            "image/png": "[encoded data removed]",
            "text/plain": [
              "<Figure size 1008x540 with 64 Axes>"
            ]
          },
          "metadata": {
            "tags": [],
            "needs_background": "light"
          }
        },
        {
          "output_type": "display_data",
          "data": {
            "image/png": "[encoded data removed]",
            "text/plain": [
              "<Figure size 1008x540 with 16 Axes>"
            ]
          },
          "metadata": {
            "tags": [],
            "needs_background": "light"
          }
        }
      ]
    },
    {
      "cell_type": "code",
      "metadata": {
        "id": "l8iQt4WAzjJo",
        "outputId": "caba26f5-8d91-4105-ee13-94573c271035"
      },
      "source": [
        "# Output of Generators\n",
        "for data_batch, label_batch in TRAIN_BATCHES:\n",
        "    print('data batch shape = {}'.format(data_batch.shape))\n",
        "    print('labels batch shape = {}'.format(label_batch.shape))\n",
        "    break"
      ],
      "execution_count": null,
      "outputs": [
        {
          "output_type": "stream",
          "text": [
            "data batch shape = (64, 333, 250, 1)\n",
            "labels batch shape = (64, 3)\n"
          ],
          "name": "stdout"
        }
      ]
    },
    {
      "cell_type": "markdown",
      "metadata": {
        "id": "Q4h9ac--zjJp"
      },
      "source": [
        "<b># Build CNN with Keras</b>"
      ]
    },
    {
      "cell_type": "code",
      "metadata": {
        "id": "38Nr93sgzjJp"
      },
      "source": [
        "# Build the CNN model\n",
        "model = Sequential()\n",
        "model.add(Conv2D(64, (5, 5), input_shape=(INPUT_DIM)))\n",
        "model.add(Activation('relu'))\n",
        "model.add(MaxPooling2D((3, 3)))\n",
        "\n",
        "model.add(Conv2D(128, (4, 4))) \n",
        "model.add(Activation('relu'))\n",
        "model.add(MaxPooling2D(pool_size=(2, 2)))\n",
        "\n",
        "model.add(Conv2D(512, (3, 3))) \n",
        "model.add(Activation('relu'))\n",
        "model.add(MaxPooling2D(pool_size=(2, 2)))\n",
        "\n",
        "model.add(Conv2D(512, (3, 3))) \n",
        "model.add(Activation('relu'))\n",
        "model.add(MaxPooling2D(pool_size=(2, 2)))\n",
        "\n",
        "model.add(Conv2D(512, (3, 3))) \n",
        "model.add(Activation('relu'))\n",
        "model.add(MaxPooling2D(pool_size=(2, 2)))\n",
        "\n",
        "model.add(Conv2D(512, (2, 2))) \n",
        "model.add(Activation('relu'))\n",
        "model.add(MaxPooling2D(pool_size=(2, 2)))\n",
        "\n",
        "model.add(Flatten()) \n",
        "\n",
        "model.add(Dense(512, kernel_regularizer=regularizers.l2(0.02))) \n",
        "model.add(Activation('relu'))\n",
        "\n",
        "model.add(Dense(3)) \n",
        "model.add(Activation('softmax')) "
      ],
      "execution_count": null,
      "outputs": []
    },
    {
      "cell_type": "code",
      "metadata": {
        "id": "5f7tiNajzjJp",
        "outputId": "ca8d014c-41a6-4eb7-eb72-a85211116d49"
      },
      "source": [
        "model.summary()"
      ],
      "execution_count": null,
      "outputs": [
        {
          "output_type": "stream",
          "text": [
            "_________________________________________________________________\n",
            "Layer (type)                 Output Shape              Param #   \n",
            "=================================================================\n",
            "conv2d_1 (Conv2D)            (None, 329, 246, 64)      1664      \n",
            "_________________________________________________________________\n",
            "activation_1 (Activation)    (None, 329, 246, 64)      0         \n",
            "_________________________________________________________________\n",
            "max_pooling2d_1 (MaxPooling2 (None, 109, 82, 64)       0         \n",
            "_________________________________________________________________\n",
            "conv2d_2 (Conv2D)            (None, 106, 79, 128)      131200    \n",
            "_________________________________________________________________\n",
            "activation_2 (Activation)    (None, 106, 79, 128)      0         \n",
            "_________________________________________________________________\n",
            "max_pooling2d_2 (MaxPooling2 (None, 53, 39, 128)       0         \n",
            "_________________________________________________________________\n",
            "conv2d_3 (Conv2D)            (None, 51, 37, 512)       590336    \n",
            "_________________________________________________________________\n",
            "activation_3 (Activation)    (None, 51, 37, 512)       0         \n",
            "_________________________________________________________________\n",
            "max_pooling2d_3 (MaxPooling2 (None, 25, 18, 512)       0         \n",
            "_________________________________________________________________\n",
            "conv2d_4 (Conv2D)            (None, 23, 16, 512)       2359808   \n",
            "_________________________________________________________________\n",
            "activation_4 (Activation)    (None, 23, 16, 512)       0         \n",
            "_________________________________________________________________\n",
            "max_pooling2d_4 (MaxPooling2 (None, 11, 8, 512)        0         \n",
            "_________________________________________________________________\n",
            "conv2d_5 (Conv2D)            (None, 9, 6, 512)         2359808   \n",
            "_________________________________________________________________\n",
            "activation_5 (Activation)    (None, 9, 6, 512)         0         \n",
            "_________________________________________________________________\n",
            "max_pooling2d_5 (MaxPooling2 (None, 4, 3, 512)         0         \n",
            "_________________________________________________________________\n",
            "conv2d_6 (Conv2D)            (None, 3, 2, 512)         1049088   \n",
            "_________________________________________________________________\n",
            "activation_6 (Activation)    (None, 3, 2, 512)         0         \n",
            "_________________________________________________________________\n",
            "max_pooling2d_6 (MaxPooling2 (None, 1, 1, 512)         0         \n",
            "_________________________________________________________________\n",
            "flatten_1 (Flatten)          (None, 512)               0         \n",
            "_________________________________________________________________\n",
            "dense_1 (Dense)              (None, 512)               262656    \n",
            "_________________________________________________________________\n",
            "activation_7 (Activation)    (None, 512)               0         \n",
            "_________________________________________________________________\n",
            "dense_2 (Dense)              (None, 3)                 1539      \n",
            "_________________________________________________________________\n",
            "activation_8 (Activation)    (None, 3)                 0         \n",
            "=================================================================\n",
            "Total params: 6,756,099\n",
            "Trainable params: 6,756,099\n",
            "Non-trainable params: 0\n",
            "_________________________________________________________________\n"
          ],
          "name": "stdout"
        }
      ]
    },
    {
      "cell_type": "code",
      "metadata": {
        "id": "5bHcp6IpzjJq"
      },
      "source": [
        "# Define an optimizer for the model\n",
        "opt = Adam(lr=0.00001, beta_1=0.9, beta_2=0.999, epsilon=None, decay=0.0, amsgrad=False)\n",
        "#opt = SGD(lr=0.01, decay=1e-6, momentum=0.85, nesterov=True)\n",
        "#opt = RMSprop(lr=0.001, rho=0.8, epsilon=None, decay=0.0)\n",
        "\n",
        "model.compile(loss='categorical_crossentropy', metrics=['accuracy'], optimizer=opt)"
      ],
      "execution_count": null,
      "outputs": []
    },
    {
      "cell_type": "code",
      "metadata": {
        "id": "vqw2uK-IzjJq",
        "outputId": "14f4517a-a34e-43b5-ed8d-7d692fa1c1f8"
      },
      "source": [
        "print('steps_per_epoch={}'.format(int(5215 / BATCH_SIZE_TRAIN)))\n",
        "print('validation_steps={}'.format(int(624 / BATCH_SIZE_TEST)))"
      ],
      "execution_count": null,
      "outputs": [
        {
          "output_type": "stream",
          "text": [
            "steps_per_epoch=81\n",
            "validation_steps=9\n"
          ],
          "name": "stdout"
        }
      ]
    },
    {
      "cell_type": "markdown",
      "metadata": {
        "id": "4fhLhsOvzjJq"
      },
      "source": [
        "<b># Train the CNN with Training data</b>"
      ]
    },
    {
      "cell_type": "code",
      "metadata": {
        "scrolled": false,
        "id": "YTfWsnDRzjJq",
        "outputId": "447c2790-c22c-4956-de41-ef1cd9c397ef"
      },
      "source": [
        "%%time\n",
        "model.fit_generator(\n",
        "    TRAIN_BATCHES,\n",
        "    steps_per_epoch=len(TRAIN_BATCHES),\n",
        "    validation_data=TEST_BATCHES,\n",
        "    validation_steps=len(TEST_BATCHES),\n",
        "    epochs=100,\n",
        "    verbose=2\n",
        ")\n",
        "\n",
        "# Parameters meanings:\n",
        "# steps_per_epoch = number_of_images / batch_size = 5215 / 64 = 82:\n",
        "# --- Total number of steps (batches of samples) to yield from generator before declaring one \n",
        "#     epoch finished and starting the next epoch. It should typically be equal to the number \n",
        "#     of unique samples of your dataset divided by the batch size.\n",
        "# Verbose:\n",
        "# -- 0 (quiet): you just get the total numbers of tests executed and the global result\n",
        "# -- 1 (default): you get the same plus a dot for every successful test or a F for every failure\n",
        "# -- 2 (verbose): you get the help string of every test and the result"
      ],
      "execution_count": null,
      "outputs": [
        {
          "output_type": "stream",
          "text": [
            "Epoch 1/100\n",
            " - 35s - loss: 11.1804 - acc: 0.4845 - val_loss: 11.0464 - val_acc: 0.3878\n",
            "Epoch 2/100\n",
            " - 21s - loss: 10.8305 - acc: 0.4851 - val_loss: 10.7375 - val_acc: 0.3878\n",
            "Epoch 3/100\n",
            " - 21s - loss: 10.4617 - acc: 0.5292 - val_loss: 10.2823 - val_acc: 0.5785\n",
            "Epoch 4/100\n",
            " - 21s - loss: 10.0070 - acc: 0.6466 - val_loss: 9.8953 - val_acc: 0.6058\n",
            "Epoch 5/100\n",
            " - 22s - loss: 9.6413 - acc: 0.6666 - val_loss: 9.5463 - val_acc: 0.6394\n",
            "Epoch 6/100\n",
            " - 22s - loss: 9.3389 - acc: 0.6877 - val_loss: 9.3746 - val_acc: 0.6442\n",
            "Epoch 7/100\n",
            " - 21s - loss: 9.0854 - acc: 0.6876 - val_loss: 9.1547 - val_acc: 0.6042\n",
            "Epoch 8/100\n",
            " - 22s - loss: 8.8114 - acc: 0.7072 - val_loss: 8.8339 - val_acc: 0.6763\n",
            "Epoch 9/100\n",
            " - 22s - loss: 8.5685 - acc: 0.7230 - val_loss: 8.5384 - val_acc: 0.7340\n",
            "Epoch 10/100\n",
            " - 22s - loss: 8.3381 - acc: 0.7241 - val_loss: 8.2793 - val_acc: 0.6859\n",
            "Epoch 11/100\n",
            " - 22s - loss: 8.1082 - acc: 0.7341 - val_loss: 8.1200 - val_acc: 0.7388\n",
            "Epoch 12/100\n",
            " - 22s - loss: 7.8918 - acc: 0.7385 - val_loss: 7.9102 - val_acc: 0.7468\n",
            "Epoch 13/100\n",
            " - 22s - loss: 7.6740 - acc: 0.7465 - val_loss: 7.6616 - val_acc: 0.7468\n",
            "Epoch 14/100\n",
            " - 22s - loss: 7.4897 - acc: 0.7421 - val_loss: 7.4507 - val_acc: 0.7356\n",
            "Epoch 15/100\n",
            " - 22s - loss: 7.2755 - acc: 0.7547 - val_loss: 7.4158 - val_acc: 0.7147\n",
            "Epoch 16/100\n",
            " - 22s - loss: 7.0984 - acc: 0.7520 - val_loss: 7.0460 - val_acc: 0.7564\n",
            "Epoch 17/100\n",
            " - 22s - loss: 6.9037 - acc: 0.7613 - val_loss: 7.1015 - val_acc: 0.7196\n",
            "Epoch 18/100\n",
            " - 22s - loss: 6.7309 - acc: 0.7577 - val_loss: 6.7023 - val_acc: 0.7404\n",
            "Epoch 19/100\n",
            " - 22s - loss: 6.5617 - acc: 0.7594 - val_loss: 6.5180 - val_acc: 0.7821\n",
            "Epoch 20/100\n",
            " - 22s - loss: 6.3827 - acc: 0.7707 - val_loss: 6.5085 - val_acc: 0.7356\n",
            "Epoch 21/100\n",
            " - 22s - loss: 6.2144 - acc: 0.7766 - val_loss: 6.2686 - val_acc: 0.7788\n",
            "Epoch 22/100\n",
            " - 22s - loss: 6.0620 - acc: 0.7697 - val_loss: 6.2211 - val_acc: 0.7532\n",
            "Epoch 23/100\n",
            " - 22s - loss: 5.9072 - acc: 0.7752 - val_loss: 6.1966 - val_acc: 0.7035\n",
            "Epoch 24/100\n",
            " - 22s - loss: 5.7572 - acc: 0.7753 - val_loss: 5.8766 - val_acc: 0.7676\n",
            "Epoch 25/100\n",
            " - 22s - loss: 5.6080 - acc: 0.7797 - val_loss: 5.6275 - val_acc: 0.7885\n",
            "Epoch 26/100\n",
            " - 22s - loss: 5.4647 - acc: 0.7775 - val_loss: 5.5716 - val_acc: 0.7676\n",
            "Epoch 27/100\n",
            " - 22s - loss: 5.3361 - acc: 0.7832 - val_loss: 5.6006 - val_acc: 0.7292\n",
            "Epoch 28/100\n",
            " - 22s - loss: 5.1995 - acc: 0.7848 - val_loss: 5.3709 - val_acc: 0.7532\n",
            "Epoch 29/100\n",
            " - 22s - loss: 5.0688 - acc: 0.7890 - val_loss: 5.3270 - val_acc: 0.7452\n",
            "Epoch 30/100\n",
            " - 22s - loss: 4.9385 - acc: 0.7909 - val_loss: 5.1208 - val_acc: 0.7564\n",
            "Epoch 31/100\n",
            " - 22s - loss: 4.8178 - acc: 0.7918 - val_loss: 4.9344 - val_acc: 0.7708\n",
            "Epoch 32/100\n",
            " - 22s - loss: 4.6931 - acc: 0.7958 - val_loss: 5.0434 - val_acc: 0.7340\n",
            "Epoch 33/100\n",
            " - 22s - loss: 4.5831 - acc: 0.7917 - val_loss: 4.6451 - val_acc: 0.7692\n",
            "Epoch 34/100\n",
            " - 22s - loss: 4.4845 - acc: 0.7848 - val_loss: 4.5729 - val_acc: 0.7788\n",
            "Epoch 35/100\n",
            " - 22s - loss: 4.3810 - acc: 0.7892 - val_loss: 4.7074 - val_acc: 0.7131\n",
            "Epoch 36/100\n",
            " - 22s - loss: 4.2560 - acc: 0.7956 - val_loss: 4.5070 - val_acc: 0.7212\n",
            "Epoch 37/100\n",
            " - 22s - loss: 4.1657 - acc: 0.7951 - val_loss: 4.3404 - val_acc: 0.7612\n",
            "Epoch 38/100\n",
            " - 22s - loss: 4.0535 - acc: 0.7983 - val_loss: 4.1393 - val_acc: 0.7901\n",
            "Epoch 39/100\n",
            " - 22s - loss: 3.9520 - acc: 0.8010 - val_loss: 4.3716 - val_acc: 0.7067\n",
            "Epoch 40/100\n",
            " - 22s - loss: 3.8581 - acc: 0.8004 - val_loss: 3.9534 - val_acc: 0.7804\n",
            "Epoch 41/100\n",
            " - 22s - loss: 3.7686 - acc: 0.8025 - val_loss: 3.8891 - val_acc: 0.7788\n",
            "Epoch 42/100\n",
            " - 22s - loss: 3.6856 - acc: 0.8017 - val_loss: 3.9187 - val_acc: 0.7388\n",
            "Epoch 43/100\n",
            " - 22s - loss: 3.5913 - acc: 0.8033 - val_loss: 3.7803 - val_acc: 0.7596\n",
            "Epoch 44/100\n",
            " - 22s - loss: 3.5115 - acc: 0.8046 - val_loss: 3.9595 - val_acc: 0.6923\n",
            "Epoch 45/100\n",
            " - 22s - loss: 3.4297 - acc: 0.8061 - val_loss: 3.6820 - val_acc: 0.7388\n",
            "Epoch 46/100\n",
            " - 22s - loss: 3.3434 - acc: 0.8100 - val_loss: 3.6148 - val_acc: 0.7516\n",
            "Epoch 47/100\n",
            " - 22s - loss: 3.2679 - acc: 0.8101 - val_loss: 3.4466 - val_acc: 0.7821\n",
            "Epoch 48/100\n",
            " - 22s - loss: 3.1974 - acc: 0.8082 - val_loss: 3.2314 - val_acc: 0.8285\n",
            "Epoch 49/100\n",
            " - 22s - loss: 3.1187 - acc: 0.8138 - val_loss: 3.3213 - val_acc: 0.7740\n",
            "Epoch 50/100\n",
            " - 22s - loss: 3.0498 - acc: 0.8096 - val_loss: 3.2354 - val_acc: 0.7853\n",
            "Epoch 51/100\n",
            " - 22s - loss: 2.9785 - acc: 0.8149 - val_loss: 3.4464 - val_acc: 0.6779\n",
            "Epoch 52/100\n",
            " - 22s - loss: 2.9208 - acc: 0.8118 - val_loss: 3.1881 - val_acc: 0.7244\n",
            "Epoch 53/100\n",
            " - 22s - loss: 2.8506 - acc: 0.8168 - val_loss: 3.1787 - val_acc: 0.7244\n",
            "Epoch 54/100\n",
            " - 22s - loss: 2.8016 - acc: 0.8086 - val_loss: 2.9355 - val_acc: 0.7804\n",
            "Epoch 55/100\n",
            " - 22s - loss: 2.7219 - acc: 0.8210 - val_loss: 2.8963 - val_acc: 0.7821\n",
            "Epoch 56/100\n",
            " - 22s - loss: 2.6636 - acc: 0.8216 - val_loss: 2.8557 - val_acc: 0.7853\n",
            "Epoch 57/100\n",
            " - 22s - loss: 2.6094 - acc: 0.8244 - val_loss: 3.0499 - val_acc: 0.6939\n",
            "Epoch 58/100\n",
            " - 22s - loss: 2.5590 - acc: 0.8174 - val_loss: 2.9958 - val_acc: 0.7035\n",
            "Epoch 59/100\n",
            " - 22s - loss: 2.5131 - acc: 0.8114 - val_loss: 2.6192 - val_acc: 0.8029\n",
            "Epoch 60/100\n",
            " - 22s - loss: 2.4551 - acc: 0.8218 - val_loss: 2.5956 - val_acc: 0.7981\n",
            "Epoch 61/100\n",
            " - 22s - loss: 2.4033 - acc: 0.8239 - val_loss: 2.8308 - val_acc: 0.7388\n",
            "Epoch 62/100\n",
            " - 22s - loss: 2.3500 - acc: 0.8244 - val_loss: 2.7138 - val_acc: 0.7308\n",
            "Epoch 63/100\n",
            " - 22s - loss: 2.3054 - acc: 0.8239 - val_loss: 2.3734 - val_acc: 0.8125\n",
            "Epoch 64/100\n",
            " - 22s - loss: 2.2585 - acc: 0.8273 - val_loss: 2.5262 - val_acc: 0.7516\n",
            "Epoch 65/100\n",
            " - 22s - loss: 2.2237 - acc: 0.8227 - val_loss: 2.5058 - val_acc: 0.7436\n",
            "Epoch 66/100\n",
            " - 22s - loss: 2.1762 - acc: 0.8283 - val_loss: 2.3674 - val_acc: 0.7724\n",
            "Epoch 67/100\n",
            " - 22s - loss: 2.1388 - acc: 0.8231 - val_loss: 2.5812 - val_acc: 0.7276\n",
            "Epoch 68/100\n",
            " - 22s - loss: 2.0943 - acc: 0.8286 - val_loss: 2.4528 - val_acc: 0.7484\n",
            "Epoch 69/100\n",
            " - 22s - loss: 2.0597 - acc: 0.8278 - val_loss: 2.7274 - val_acc: 0.6378\n",
            "Epoch 70/100\n",
            " - 22s - loss: 2.0255 - acc: 0.8281 - val_loss: 2.3596 - val_acc: 0.7500\n",
            "Epoch 71/100\n",
            " - 22s - loss: 1.9863 - acc: 0.8283 - val_loss: 2.3901 - val_acc: 0.7404\n",
            "Epoch 72/100\n",
            " - 22s - loss: 1.9561 - acc: 0.8311 - val_loss: 2.2826 - val_acc: 0.7468\n",
            "Epoch 73/100\n",
            " - 22s - loss: 1.9238 - acc: 0.8298 - val_loss: 2.0636 - val_acc: 0.8093\n",
            "Epoch 74/100\n",
            " - 22s - loss: 1.8846 - acc: 0.8355 - val_loss: 2.3267 - val_acc: 0.7260\n",
            "Epoch 75/100\n",
            " - 22s - loss: 1.8597 - acc: 0.8361 - val_loss: 2.0229 - val_acc: 0.8013\n",
            "Epoch 76/100\n",
            " - 22s - loss: 1.8320 - acc: 0.8355 - val_loss: 2.3179 - val_acc: 0.7099\n",
            "Epoch 77/100\n",
            " - 22s - loss: 1.7960 - acc: 0.8393 - val_loss: 2.0396 - val_acc: 0.7676\n",
            "Epoch 78/100\n",
            " - 22s - loss: 1.7858 - acc: 0.8299 - val_loss: 2.0850 - val_acc: 0.7676\n",
            "Epoch 79/100\n",
            " - 22s - loss: 1.7469 - acc: 0.8378 - val_loss: 2.1459 - val_acc: 0.7260\n",
            "Epoch 80/100\n",
            " - 22s - loss: 1.7205 - acc: 0.8412 - val_loss: 2.0171 - val_acc: 0.7676\n",
            "Epoch 81/100\n",
            " - 22s - loss: 1.6988 - acc: 0.8389 - val_loss: 2.0374 - val_acc: 0.7308\n",
            "Epoch 82/100\n",
            " - 22s - loss: 1.6686 - acc: 0.8397 - val_loss: 2.1212 - val_acc: 0.7388\n",
            "Epoch 83/100\n",
            " - 22s - loss: 1.6561 - acc: 0.8401 - val_loss: 2.1330 - val_acc: 0.7324\n",
            "Epoch 84/100\n",
            " - 22s - loss: 1.6301 - acc: 0.8427 - val_loss: 1.9441 - val_acc: 0.7516\n",
            "Epoch 85/100\n",
            " - 22s - loss: 1.6028 - acc: 0.8431 - val_loss: 1.9393 - val_acc: 0.7500\n",
            "Epoch 86/100\n",
            " - 22s - loss: 1.5811 - acc: 0.8458 - val_loss: 2.2160 - val_acc: 0.6987\n",
            "Epoch 87/100\n",
            " - 22s - loss: 1.5682 - acc: 0.8446 - val_loss: 1.9336 - val_acc: 0.7564\n",
            "Epoch 88/100\n",
            " - 22s - loss: 1.5436 - acc: 0.8475 - val_loss: 2.0820 - val_acc: 0.7196\n",
            "Epoch 89/100\n",
            " - 22s - loss: 1.5267 - acc: 0.8452 - val_loss: 1.9127 - val_acc: 0.7420\n",
            "Epoch 90/100\n",
            " - 22s - loss: 1.5133 - acc: 0.8431 - val_loss: 1.8906 - val_acc: 0.7644\n",
            "Epoch 91/100\n",
            " - 22s - loss: 1.5047 - acc: 0.8418 - val_loss: 2.0474 - val_acc: 0.7179\n",
            "Epoch 92/100\n",
            " - 22s - loss: 1.4759 - acc: 0.8494 - val_loss: 2.0956 - val_acc: 0.7115\n",
            "Epoch 93/100\n",
            " - 22s - loss: 1.4575 - acc: 0.8519 - val_loss: 1.9842 - val_acc: 0.7356\n",
            "Epoch 94/100\n",
            " - 22s - loss: 1.4544 - acc: 0.8481 - val_loss: 2.3285 - val_acc: 0.6763\n",
            "Epoch 95/100\n",
            " - 22s - loss: 1.4426 - acc: 0.8490 - val_loss: 2.2308 - val_acc: 0.6474\n",
            "Epoch 96/100\n",
            " - 22s - loss: 1.4152 - acc: 0.8546 - val_loss: 2.1072 - val_acc: 0.7051\n"
          ],
          "name": "stdout"
        },
        {
          "output_type": "stream",
          "text": [
            "Epoch 97/100\n",
            " - 22s - loss: 1.4042 - acc: 0.8561 - val_loss: 1.9800 - val_acc: 0.7083\n",
            "Epoch 98/100\n",
            " - 22s - loss: 1.3928 - acc: 0.8538 - val_loss: 1.9289 - val_acc: 0.6955\n",
            "Epoch 99/100\n",
            " - 22s - loss: 1.3765 - acc: 0.8555 - val_loss: 2.0738 - val_acc: 0.7003\n",
            "Epoch 100/100\n",
            " - 22s - loss: 1.3771 - acc: 0.8548 - val_loss: 2.0096 - val_acc: 0.7163\n",
            "Wall time: 36min 24s\n"
          ],
          "name": "stdout"
        },
        {
          "output_type": "execute_result",
          "data": {
            "text/plain": [
              "<keras.callbacks.History at 0x1999f9ddbe0>"
            ]
          },
          "metadata": {
            "tags": []
          },
          "execution_count": 13
        }
      ]
    },
    {
      "cell_type": "code",
      "metadata": {
        "scrolled": false,
        "id": "56YoUco5zjJr",
        "outputId": "f24e5beb-8c98-4349-c1d9-882f81979d8c"
      },
      "source": [
        "plot_model_result(model)"
      ],
      "execution_count": null,
      "outputs": [
        {
          "output_type": "display_data",
          "data": {
            "image/png": "[encoded data removed]",
            "text/plain": [
              "<Figure size 1008x288 with 1 Axes>"
            ]
          },
          "metadata": {
            "tags": [],
            "needs_background": "light"
          }
        },
        {
          "output_type": "display_data",
          "data": {
            "image/png": "[encoded data removed]",
            "text/plain": [
              "<Figure size 1008x288 with 1 Axes>"
            ]
          },
          "metadata": {
            "tags": [],
            "needs_background": "light"
          }
        }
      ]
    },
    {
      "cell_type": "markdown",
      "metadata": {
        "id": "SAtSj_oFzjJr"
      },
      "source": [
        "<p><i>More saved models are stored on the project directory as <code>good_models</code>. There are subsystem contain graphs, weights and CNN architectures for each training experiment.</i></p>"
      ]
    },
    {
      "cell_type": "code",
      "metadata": {
        "id": "TnNUaspQzjJr",
        "outputId": "412527a2-adea-43bd-98f6-ec72bddbb844"
      },
      "source": [
        "# Save the results as separate lists\n",
        "df = save_model_result(model)"
      ],
      "execution_count": null,
      "outputs": [
        {
          "output_type": "stream",
          "text": [
            "     val_acc       acc   val_loss       loss\n",
            "0   0.387821  0.485139  11.046413  11.179277\n",
            "1   0.387821  0.485139  10.737456  10.829542\n",
            "2   0.578526  0.528859  10.282257  10.461904\n",
            "3   0.605769  0.646405   9.895259  10.008019\n",
            "4   0.639423  0.666155   9.546279   9.641913\n",
            "..       ...       ...        ...        ...\n",
            "95  0.705128  0.854650   2.107220   1.414961\n",
            "96  0.708333  0.855609   1.980009   1.404522\n",
            "97  0.695513  0.853500   1.928904   1.393060\n",
            "98  0.700321  0.855034   2.073797   1.376667\n",
            "99  0.716346  0.854267   2.009601   1.377541\n",
            "\n",
            "[100 rows x 4 columns]\n",
            "\n",
            "\n",
            "Result data is saved as file: model_results_2019-08-19_23-32.csv\n"
          ],
          "name": "stdout"
        }
      ]
    },
    {
      "cell_type": "markdown",
      "metadata": {
        "id": "Fbt0birpzjJr"
      },
      "source": [
        "<h3>Part 2. Make it resuable</h3>"
      ]
    },
    {
      "cell_type": "code",
      "metadata": {
        "id": "y2Uh3ZRmzjJr",
        "outputId": "dcb9892d-f4ba-4975-9e6e-040e731acc93"
      },
      "source": [
        "# Save the Model Weights\n",
        "model.save_weights('model_100_eopchs_adam_20191030_01.h5')\n",
        "\n",
        "# Save the Model to JSON\n",
        "model_json = model.to_json()\n",
        "with open('model_adam_20191030_01.json', 'w') as json_file:\n",
        "    json_file.write(model_json)\n",
        "    \n",
        "print('Model saved to the disk.')"
      ],
      "execution_count": null,
      "outputs": [
        {
          "output_type": "stream",
          "text": [
            "Model saved to the disk.\n"
          ],
          "name": "stdout"
        }
      ]
    },
    {
      "cell_type": "code",
      "metadata": {
        "id": "kdTpc2k6zjJs",
        "outputId": "8c4fb2a2-50db-4ac5-b9a2-93ecc0531091"
      },
      "source": [
        "# ------------------------------------------------------------------------\n",
        "# Load saved model and its weights\n",
        "'''\n",
        ">> Model weights are saved to HDF5 format.\n",
        ">> The model structure can be described and saved using two different formats: JSON and YAML.\n",
        "'''\n",
        "\n",
        "# Import dependencies\n",
        "from keras.optimizers import Adam\n",
        "from tensorflow.keras.models import model_from_json\n",
        "from tensorflow.python.framework import ops\n",
        "ops.reset_default_graph()\n",
        "import h5py \n",
        "from PIL import Image\n",
        "import PIL\n",
        "from vb100_utils import *"
      ],
      "execution_count": null,
      "outputs": [
        {
          "output_type": "stream",
          "text": [
            "Using TensorFlow backend.\n"
          ],
          "name": "stderr"
        }
      ]
    },
    {
      "cell_type": "code",
      "metadata": {
        "id": "R12OKCSqzjJs",
        "outputId": "3300d6ad-85e9-42a6-d300-8cb8b65add93"
      },
      "source": [
        "print('h5py version is {}'.format(h5py.__version__))"
      ],
      "execution_count": null,
      "outputs": [
        {
          "output_type": "stream",
          "text": [
            "h5py version is 2.9.0\n"
          ],
          "name": "stdout"
        }
      ]
    },
    {
      "cell_type": "code",
      "metadata": {
        "id": "xUw8gtI3zjJs"
      },
      "source": [
        "# Get the architecture of CNN\n",
        "json_file = open('./good_models/20190807/02/model_adam.json')\n",
        "loaded_model_json = json_file.read()\n",
        "json_file.close()\n",
        "loaded_model = model_from_json(loaded_model_json)\n",
        "\n",
        "# Get weights into the model\n",
        "loaded_model.load_weights('./good_models/20190807/02/model_100_eopchs_adam_20190807.h5')"
      ],
      "execution_count": null,
      "outputs": []
    },
    {
      "cell_type": "code",
      "metadata": {
        "id": "mn6mg6kxzjJs",
        "outputId": "fb39ea46-533f-4ddb-fe54-d4398c2f1905"
      },
      "source": [
        "'''\n",
        "Here I will simulate what will happen during deployment on a cloud.\n",
        "Reading a given image, preparing it for CNN evaluation and make\n",
        "a predictions with a returned class from a dictionary that has\n",
        "been used for training.\n",
        "'''\n",
        "\n",
        "# Define optimizer and run\n",
        "opt = Adam(lr=0.00001, beta_1=0.9, beta_2=0.999, epsilon=None, decay=0.0)\n",
        "loaded_model.compile(loss='categorical_crossentropy', metrics=['accuracy'], optimizer='rmsprop')\n",
        "\n",
        "\n",
        "'''\n",
        "Important Note! For this block optimizer is entered manualy as Tensorflow object.\n",
        "For future, need to change it for include it as variable with full set of\n",
        "parameters as Tensorflow variable.\n",
        "\n",
        "'''\n",
        "\n",
        "IMG = Image.open('data/val/BACTERIA/person1950_bacteria_4881.jpeg')\n",
        "print(type(IMG))\n",
        "IMG = IMG.resize((342, 257))\n",
        "IMG = np.array(IMG)\n",
        "print('po array = {}'.format(IMG.shape))\n",
        "IMG = np.true_divide(IMG, 255)\n",
        "IMG = IMG.reshape(1, 342, 257, 1)\n",
        "print(type(IMG), IMG.shape)\n",
        "\n",
        "predictions = loaded_model.predict(IMG)\n",
        "\n",
        "print(loaded_model)\n",
        "predictions_c = loaded_model.predict_classes(IMG)\n",
        "print(predictions, predictions_c)"
      ],
      "execution_count": null,
      "outputs": [
        {
          "output_type": "stream",
          "text": [
            "<class 'PIL.JpegImagePlugin.JpegImageFile'>\n",
            "po array = (257, 342)\n",
            "<class 'numpy.ndarray'> (1, 342, 257, 1)\n",
            "<tensorflow.python.keras.engine.sequential.Sequential object at 0x00000223A6FC25C0>\n",
            "[[3.2061152e-07 4.3910891e-12 9.9999964e-01]] [2]\n"
          ],
          "name": "stdout"
        }
      ]
    },
    {
      "cell_type": "code",
      "metadata": {
        "id": "UZLYVW8czjJt"
      },
      "source": [
        "classes = {'TRAIN': ['BACTERIA', 'NORMAL', 'VIRUS'],\n",
        "           'VALIDATION': ['BACTERIA', 'NORMAL'],\n",
        "           'TEST': ['BACTERIA', 'NORMAL', 'VIRUS']}\n",
        "\n",
        "predicted_class = classes['TRAIN'][predictions_c[0]]\n",
        "print('We think that is {}.'.format(predicted_class.lower()))"
      ],
      "execution_count": null,
      "outputs": []
    }
  ]
}